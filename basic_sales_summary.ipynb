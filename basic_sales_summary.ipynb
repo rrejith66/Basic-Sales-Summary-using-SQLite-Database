{
 "cells": [
  {
   "cell_type": "markdown",
   "id": "b8bbc254",
   "metadata": {},
   "source": [
    "### TASK 7: Get Basic Sales Summary from a Tiny SQLite Database using Python"
   ]
  },
  {
   "cell_type": "markdown",
   "id": "d00aa42b",
   "metadata": {},
   "source": [
    "#### _Objective_: Use SQL inside Python to pull simple sales info (like total quantity sold, total revenue), and display it using basic print statements and a simple bar chart."
   ]
  },
  {
   "cell_type": "code",
   "execution_count": 17,
   "id": "36142cf8",
   "metadata": {},
   "outputs": [],
   "source": [
    "# importing the required libraries\n",
    "\n",
    "import pandas as pd\n",
    "import sqlite3\n",
    "import matplotlib.pyplot as plt"
   ]
  },
  {
   "cell_type": "code",
   "execution_count": null,
   "id": "d156f4f4",
   "metadata": {},
   "outputs": [],
   "source": [
    "# -----------------------\n",
    "# 1. Create / Connect to database\n",
    "# -----------------------\n",
    "\n",
    "# Connect to the SQLite database (creates sales_data.db if it doesn't exist)\n",
    "conn = sqlite3.connect(\"sales_data.db\")\n",
    "cursor = conn.cursor()\n",
    "\n",
    "# Create the 'sales' table if it does not already exist\n",
    "cursor.execute(\"\"\"\n",
    "CREATE TABLE IF NOT EXISTS sales (\n",
    "    product TEXT,\n",
    "    quantity INTEGER,\n",
    "    price REAL\n",
    ")\n",
    "\"\"\")"
   ]
  },
  {
   "cell_type": "code",
   "execution_count": null,
   "id": "87570bb6",
   "metadata": {},
   "outputs": [],
   "source": [
    "# -----------------------\n",
    "# Insert sample data into the sales table\n",
    "# -----------------------\n",
    "sales_data = [\n",
    "    (\"Apple\", 10, 1.50),\n",
    "    (\"Banana\", 20, 0.80),\n",
    "    (\"Orange\", 15, 1.20),\n",
    "    (\"Apple\", 5, 1.50),\n",
    "    (\"Banana\", 8, 0.80),\n",
    "    (\"Grapes\", 12, 2.50),\n",
    "    (\"Watermelon\", 3, 4.00),\n",
    "    (\"Pineapple\", 6, 3.20),\n",
    "    (\"Mango\", 7, 2.80),\n",
    "    (\"Strawberry\", 25, 0.50),\n",
    "    (\"Orange\", 10, 1.20),\n",
    "    (\"Apple\", 7, 1.50),\n",
    "    (\"Banana\", 12, 0.80),\n",
    "    (\"Mango\", 4, 2.80),\n",
    "    (\"Watermelon\", 2, 4.00),\n",
    "    (\"Pineapple\", 5, 3.20)\n",
    "]\n",
    "\n",
    "# Insert all records into the sales table\n",
    "cursor.executemany(\"INSERT INTO sales VALUES (?, ?, ?)\", sales_data)\n",
    "conn.commit()"
   ]
  },
  {
   "cell_type": "code",
   "execution_count": 19,
   "id": "4bba920f",
   "metadata": {},
   "outputs": [
    {
     "name": "stdout",
     "output_type": "stream",
     "text": [
      "Total Quantity Sold: 604\n",
      "Total Revenue: $894.00\n"
     ]
    }
   ],
   "source": [
    "# -----------------------\n",
    "# 2. SQL queries for summary metrics\n",
    "# -----------------------\n",
    "\n",
    "# Query to get the total quantity sold across all products\n",
    "cursor.execute(\"SELECT SUM(quantity) FROM sales\")\n",
    "total_qty = cursor.fetchone()[0]  # fetchone() returns a tuple, so take index 0\n",
    "\n",
    "# Query to get the total revenue (quantity * price) across all products\n",
    "cursor.execute(\"SELECT SUM(quantity * price) FROM sales\")\n",
    "total_revenue = cursor.fetchone()[0]\n",
    "\n",
    "# Display total sales metrics\n",
    "print(f\"Total Quantity Sold: {total_qty}\")\n",
    "print(f\"Total Revenue: ${total_revenue:.2f}\")"
   ]
  },
  {
   "cell_type": "code",
   "execution_count": 20,
   "id": "ca17a0de",
   "metadata": {},
   "outputs": [
    {
     "name": "stdout",
     "output_type": "stream",
     "text": [
      "\n",
      "Product Summary:\n",
      "   product  total_qty  revenue\n",
      "     Apple         88    132.0\n",
      "    Banana        160    128.0\n",
      "    Grapes         48    120.0\n",
      "     Mango         44    123.2\n",
      "    Orange        100    120.0\n",
      " Pineapple         44    140.8\n",
      "Strawberry        100     50.0\n",
      "Watermelon         20     80.0\n"
     ]
    }
   ],
   "source": [
    "# -----------------------\n",
    "# 3. SQL for product-level summary\n",
    "# -----------------------\n",
    "\n",
    "# Query to get quantity sold and revenue grouped by product into a DataFrame\n",
    "df = pd.read_sql_query(\"\"\"\n",
    "SELECT product, \n",
    "       SUM(quantity) AS total_qty, \n",
    "       SUM(quantity * price) AS revenue\n",
    "FROM sales\n",
    "GROUP BY product\n",
    "\"\"\", conn)\n",
    "\n",
    "# Display the product-level summary using pandas\n",
    "print(\"\\nProduct Summary:\")\n",
    "print(df.to_string(index=False))  # prints without DataFrame index"
   ]
  },
  {
   "cell_type": "code",
   "execution_count": null,
   "id": "f28745f7",
   "metadata": {},
   "outputs": [
    {
     "data": {
      "image/png": "[encoded data removed]",
      "text/plain": [
       "<Figure size 640x480 with 1 Axes>"
      ]
     },
     "metadata": {},
     "output_type": "display_data"
    }
   ],
   "source": [
    "# -----------------------\n",
    "# 4. Bar chart using pandas DataFrame\n",
    "# -----------------------\n",
    "df.plot(kind='bar', x='product', y='total_qty', legend=False)\n",
    "plt.xlabel(\"Product\")\n",
    "plt.ylabel(\"Total Quantity Sold\")\n",
    "plt.title(\"Sales by Product\")\n",
    "plt.xticks(rotation=45)\n",
    "plt.tight_layout()\n",
    "plt.show()\n",
    "\n",
    "# Close the database connection\n",
    "\n",
    "conn.close()"
   ]
  },
  {
   "cell_type": "code",
   "execution_count": null,
   "id": "4e786491",
   "metadata": {},
   "outputs": [],
   "source": []
  }
 ],
 "metadata": {
  "kernelspec": {
   "display_name": "Python 3",
   "language": "python",
   "name": "python3"
  },
  "language_info": {
   "codemirror_mode": {
    "name": "ipython",
    "version": 3
   },
   "file_extension": ".py",
   "mimetype": "text/x-python",
   "name": "python",
   "nbconvert_exporter": "python",
   "pygments_lexer": "ipython3",
   "version": "3.12.11"
  }
 },
 "nbformat": 4,
 "nbformat_minor": 5
}
